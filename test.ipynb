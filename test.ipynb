{
 "cells": [
  {
   "cell_type": "code",
   "execution_count": 9,
   "metadata": {},
   "outputs": [
    {
     "name": "stdout",
     "output_type": "stream",
     "text": [
      "{\n",
      "  \"result\": [\n",
      "    {\n",
      "      \"ID\": \"1\",\n",
      "      \"POST\": \"\",\n",
      "      \"COMMENTS\": \"\",\n",
      "      \"HONORIFIC\": \"HNR_RU_1\",\n",
      "      \"NAME\": \"\\u041f\\u0435\\u0442\\u0440\",\n",
      "      \"SECOND_NAME\": \"\",\n",
      "      \"LAST_NAME\": \"\\u0418\\u0432\\u0430\\u043d\\u043e\\u0432\",\n",
      "      \"PHOTO\": null,\n",
      "      \"LEAD_ID\": null,\n",
      "      \"TYPE_ID\": \"CLIENT\",\n",
      "      \"SOURCE_ID\": \"CALL\",\n",
      "      \"SOURCE_DESCRIPTION\": \"\",\n",
      "      \"COMPANY_ID\": null,\n",
      "      \"BIRTHDATE\": \"\",\n",
      "      \"EXPORT\": \"Y\",\n",
      "      \"HAS_PHONE\": \"N\",\n",
      "      \"HAS_EMAIL\": \"N\",\n",
      "      \"HAS_IMOL\": \"N\",\n",
      "      \"DATE_CREATE\": \"2024-04-23T08:50:39+03:00\",\n",
      "      \"DATE_MODIFY\": \"2024-04-23T08:50:39+03:00\",\n",
      "      \"ASSIGNED_BY_ID\": \"1\",\n",
      "      \"CREATED_BY_ID\": \"1\",\n",
      "      \"MODIFY_BY_ID\": \"1\",\n",
      "      \"OPENED\": \"Y\",\n",
      "      \"ORIGINATOR_ID\": null,\n",
      "      \"ORIGIN_ID\": null,\n",
      "      \"ORIGIN_VERSION\": null,\n",
      "      \"FACE_ID\": null,\n",
      "      \"LAST_ACTIVITY_TIME\": \"2024-04-23T08:50:39+03:00\",\n",
      "      \"ADDRESS\": null,\n",
      "      \"ADDRESS_2\": null,\n",
      "      \"ADDRESS_CITY\": null,\n",
      "      \"ADDRESS_POSTAL_CODE\": null,\n",
      "      \"ADDRESS_REGION\": null,\n",
      "      \"ADDRESS_PROVINCE\": null,\n",
      "      \"ADDRESS_COUNTRY\": null,\n",
      "      \"ADDRESS_LOC_ADDR_ID\": null,\n",
      "      \"UTM_SOURCE\": null,\n",
      "      \"UTM_MEDIUM\": null,\n",
      "      \"UTM_CAMPAIGN\": null,\n",
      "      \"UTM_CONTENT\": null,\n",
      "      \"UTM_TERM\": null,\n",
      "      \"LAST_ACTIVITY_BY\": \"1\"\n",
      "    }\n",
      "  ],\n",
      "  \"total\": 1,\n",
      "  \"time\": {\n",
      "    \"start\": 1713851817.121864,\n",
      "    \"finish\": 1713851817.164972,\n",
      "    \"duration\": 0.04310798645019531,\n",
      "    \"processing\": 0.018819093704223633,\n",
      "    \"date_start\": \"2024-04-23T08:56:57+03:00\",\n",
      "    \"date_finish\": \"2024-04-23T08:56:57+03:00\",\n",
      "    \"operating_reset_at\": 1713852417,\n",
      "    \"operating\": 0\n",
      "  }\n",
      "}\n"
     ]
    }
   ],
   "source": [
    "import requests\n",
    "import json\n",
    "import doten\n",
    "\n",
    "\n",
    "res = requests.get('https://b24-s88plv.bitrix24.kz/rest/1/2d3gkim8xg4mu97u/crm.contact.list/')\n",
    "response = json.loads(res.content)\n",
    "# print(response)\n",
    "print(json.dumps(response, indent=2))"
   ]
  },
  {
   "cell_type": "code",
   "execution_count": null,
   "metadata": {},
   "outputs": [],
   "source": []
  }
 ],
 "metadata": {
  "kernelspec": {
   "display_name": "Python 3",
   "language": "python",
   "name": "python3"
  },
  "language_info": {
   "codemirror_mode": {
    "name": "ipython",
    "version": 3
   },
   "file_extension": ".py",
   "mimetype": "text/x-python",
   "name": "python",
   "nbconvert_exporter": "python",
   "pygments_lexer": "ipython3",
   "version": "3.12.0"
  }
 },
 "nbformat": 4,
 "nbformat_minor": 2
}
